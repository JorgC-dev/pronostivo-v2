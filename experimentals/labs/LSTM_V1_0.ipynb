{
 "cells": [
  {
   "cell_type": "code",
   "execution_count": null,
   "id": "2a99f73e",
   "metadata": {},
   "outputs": [],
   "source": [
    "#LSTM caso 1: UNIVARIADO - CANTIDAD_VENTAS\n",
    "import pyodbc\n",
    "import pandas as pd\n",
    "from datetime import date, datetime, timedelta\n",
    "import numpy as np\n",
    "from dateutil.relativedelta import relativedelta\n",
    "import matplotlib.pylab as plt\n",
    "%matplotlib inline\n",
    "from keras.models import Sequential\n",
    "from keras.layers import Dense, Activation, Flatten, Dropout, LSTM\n",
    "from keras.optimizers import SGD, RMSprop\n",
    "from sklearn.preprocessing import MinMaxScaler\n",
    "from sklearn.ensemble import IsolationForest\n",
    "\n",
    "plt.rcParams['figure.figsize' ] = (16, 9)\n",
    "plt.style.use('fast')"
   ]
  },
  {
   "cell_type": "code",
   "execution_count": null,
   "id": "37e8b231",
   "metadata": {},
   "outputs": [],
   "source": [
    "sql_server = \"\"\"\n",
    "DRIVER={ODBC Driver 17 for SQL Server};\n",
    "server=192.168.1.235,1433;\n",
    "database=demo_prediccion;\n",
    "uid=sa;\n",
    "pwd=qwerty;\n",
    "Trusted_connection=yes;\n",
    "\"\"\""
   ]
  },
  {
   "cell_type": "code",
   "execution_count": null,
   "id": "7385b14a",
   "metadata": {},
   "outputs": [],
   "source": [
    "# Se entrenará con todos los datos de las ventas menores al 2020\n",
    "query = \"\"\"\n",
    "SELECT\n",
    "[F].[Fecha] AS fecha,\n",
    "SUM([H]. [cantidad]) AS TotalVentas\n",
    "FROM\n",
    "[demo_prediccion]. [dbo]. [hechos] AS [H]\n",
    "INNER JOIN [demo_prediccion]. [dbo]. [Dim_fechas] AS [f] ON [H].[id_DimFechas] = [F].[id]\n",
    "WHERE \n",
    "[F].[Fecha] > '2016-12-31' AND [F].[Fecha] < '2020-01-01'\n",
    "GROUP BY [F].[Fecha]\n",
    "ORDER BY [F].[Fecha]\n",
    "\"\"\""
   ]
  },
  {
   "cell_type": "code",
   "execution_count": null,
   "id": "a6594f87",
   "metadata": {},
   "outputs": [],
   "source": [
    "query2=\"\"\"\n",
    "SELECT\n",
    "[F].[Fecha] AS fecha,\n",
    "SUM([H]. [cantidad]) AS TotalVentas\n",
    "FROM\n",
    "[demo_prediccion]. [dbo]. [hechos] AS [H]\n",
    "INNER JOIN [demo_prediccion]. [dbo]. [Dim_fechas] AS [f] ON [H].[id_DimFechas] = [F].[id]\n",
    "WHERE \n",
    "[F].[Fecha] > '2016-12-31' AND [F].[Fecha] < '2021-01-01'\n",
    "GROUP BY [F].[Fecha]\n",
    "ORDER BY [F].[Fecha]\n",
    "\"\"\""
   ]
  },
  {
   "cell_type": "code",
   "execution_count": null,
   "id": "23a65b7a",
   "metadata": {},
   "outputs": [],
   "source": [
    "PASOS = 31"
   ]
  },
  {
   "cell_type": "code",
   "execution_count": null,
   "id": "0f341064",
   "metadata": {},
   "outputs": [],
   "source": [
    "#Opcion 1: Permitir que pueda ser modificada la sentencia, y mantener el try para evitar de que\n",
    "# el programa se rompa\n",
    "def get_sqlconnection(config_sqlServer):\n",
    "    status = \"inicializando....\"\n",
    "    try: \n",
    "        connection = pyodbc.connect(sql_server)\n",
    "        status = \"Conexion establecida satisfactoriamente\"\n",
    "    except Exception as e:\n",
    "        status = \"Error al establecer la conexión:\"+e\n",
    "    print(status)\n",
    "    return connection"
   ]
  },
  {
   "cell_type": "code",
   "execution_count": null,
   "id": "7a387c12",
   "metadata": {},
   "outputs": [],
   "source": [
    "def set_index_datetime(data):\n",
    "        if str(type(data) == \"<class 'pandas.core.frame.DataFrame'>\"):\n",
    "            # data.sort_values('fecha', inplace=True)\n",
    "            for column in data.columns: \n",
    "                try: \n",
    "                    pd.to_datetime(data[column])\n",
    "                    data.set_index(column,inplace=True)\n",
    "                    return data\n",
    "                except Exception as e:  \n",
    "                    pass\n",
    "        else: \n",
    "            return 0"
   ]
  },
  {
   "cell_type": "code",
   "execution_count": null,
   "id": "7c976ed4",
   "metadata": {},
   "outputs": [],
   "source": [
    "# convert series to supervised learning\n",
    "def series_to_supervised(data, n_in=1, n_out=1, dropnan=True):\n",
    "    n_vars = 1 if type(data) is list else data.shape[1]\n",
    "    df = pd.DataFrame(data)\n",
    "    cols, names = list(), list()\n",
    "    # input sequence (t-n, ... t-1)\n",
    "    for i in range(n_in, 0, -1):\n",
    "        cols.append(df.shift(i))\n",
    "        names += [('var%d(t-%d)' % (j+1, i)) for j in range(n_vars)]\n",
    "    # forecast sequence (t, t+1, ... t+n)\n",
    "    for i in range(0, n_out):\n",
    "        cols.append(df.shift(-i))\n",
    "        if i == 0:\n",
    "            names += [('var%d(t)' % (j+1)) for j in range(n_vars)]\n",
    "        else:\n",
    "            names += [('var%d(t+%d)' % (j+1, i)) for j in range(n_vars)]\n",
    "    # put it all together\n",
    "    agg = pd.concat(cols, axis=1)\n",
    "    agg.columns = names\n",
    "    # drop rows with NaN values\n",
    "    if dropnan:\n",
    "        agg.dropna(inplace=True)\n",
    "    return agg"
   ]
  },
  {
   "cell_type": "code",
   "execution_count": null,
   "id": "45afdebd",
   "metadata": {},
   "outputs": [],
   "source": [
    "def eliminar_anomalias(dtaframe):\n",
    "    dataFrame_anomalias = dtaframe.copy()\n",
    "    modeloIsolation = IsolationForest(contamination=0.05)\n",
    "    modeloIsolation.fit(dataFrame_anomalias)\n",
    "    anomalias = modeloIsolation.predict(dataFrame_anomalias)\n",
    "    dtaframe['anomalias' ] = anomalias\n",
    "    dataFrameSinAnomalias = dtaframe[dtaframe['anomalias' ] != -1]\n",
    "    dataFrameSinAnomalias = dataFrameSinAnomalias.drop('anomalias', axis=1)\n",
    "    return dataFrameSinAnomalias"
   ]
  },
  {
   "cell_type": "code",
   "execution_count": null,
   "id": "8937523d",
   "metadata": {},
   "outputs": [],
   "source": [
    "#core\n",
    "with get_sqlconnection(sql_server) as cursor: \n",
    "    prepData = pd.read_sql_query(query,cursor)\n",
    "    historyData = pd.read_sql_query(query2, cursor)\n",
    "\n",
    "    prepData = set_index_datetime(prepData)\n",
    "    historyData = set_index_datetime(historyData)\n",
    "\n",
    "    #Switch the format on days or months\n",
    "    #nota, acualmente los datos son filtrados con respecto a solo si son en  formato de día o de mes,\n",
    "    #en LSTM, que incluye  datos en horarios, se tendría que modificar esta parte\n",
    "    try: \n",
    "        #Si se trata de meses\n",
    "        first_day = datetime.strptime(prepData.index.min(),'%Y-%m') + relativedelta(months=1)\n",
    "        last_day = datetime.strptime(prepData.index.max(), '%Y-%m' ) + relativedelta(months=1)\n",
    "        future_days = [last_day + relativedelta(months=i) for i in range(PASOS)]\n",
    "        for i in range(len(future_days)):\n",
    "            future_days[i] = str(future_days[i])[:7]\n",
    "        print(\"Month_format_detected\")\n",
    "    except Exception as e: \n",
    "        #si se trata de dias\n",
    "        print(\"Days_format_detected\")\n",
    "        first_day = prepData.index.min() + timedelta(days=1)\n",
    "        last_day = prepData.index.max() + timedelta(days=1)\n",
    "        future_days = [last_day + timedelta(days=i) for i in range(PASOS)]\n",
    "        for i in range(len(future_days)):\n",
    "            future_days[i] = str(future_days[i])[:10]\n",
    "    #END TRY\n",
    "\n",
    "    #De momento solamente será la fecha\n",
    "    future_data = pd.DataFrame(future_days, columns=['fecha'])\n",
    "\n",
    "    \n",
    "    #creamos un modelo\n",
    "    for column in prepData.columns:\n",
    "        data = prepData.filter([column])\n",
    "        data = prepData.filter([column])\n",
    "        data.set_index(prepData.index, inplace=True)\n",
    "        data = eliminar_anomalias(data)"
   ]
  }
 ],
 "metadata": {
  "kernelspec": {
   "display_name": "envprediccion",
   "language": "python",
   "name": "python3"
  },
  "language_info": {
   "codemirror_mode": {
    "name": "ipython",
    "version": 3
   },
   "file_extension": ".py",
   "mimetype": "text/x-python",
   "name": "python",
   "nbconvert_exporter": "python",
   "pygments_lexer": "ipython3",
   "version": "3.11.4"
  }
 },
 "nbformat": 4,
 "nbformat_minor": 5
}
