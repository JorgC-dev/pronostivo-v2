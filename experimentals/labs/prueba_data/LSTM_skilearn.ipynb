{
 "cells": [
  {
   "cell_type": "code",
   "execution_count": 1,
   "id": "98f0c9c8",
   "metadata": {},
   "outputs": [
    {
     "data": {
      "text/html": [
       "        <script type=\"text/javascript\">\n",
       "        window.PlotlyConfig = {MathJaxConfig: 'local'};\n",
       "        if (window.MathJax && window.MathJax.Hub && window.MathJax.Hub.Config) {window.MathJax.Hub.Config({SVG: {font: \"STIX-Web\"}});}\n",
       "        </script>\n",
       "        <script type=\"module\">import \"https://cdn.plot.ly/plotly-3.0.1.min\"</script>\n",
       "        "
      ]
     },
     "metadata": {},
     "output_type": "display_data"
    },
    {
     "name": "stderr",
     "output_type": "stream",
     "text": [
      "c:\\GitHub\\pronostico\\pronostico\\envprediccion\\Lib\\site-packages\\tqdm\\auto.py:21: TqdmWarning:\n",
      "\n",
      "IProgress not found. Please update jupyter and ipywidgets. See https://ipywidgets.readthedocs.io/en/stable/user_install.html\n",
      "\n"
     ]
    },
    {
     "name": "stdout",
     "output_type": "stream",
     "text": [
      "\u001b[1m\u001b[38;5;208mVersion skforecast: 0.16.0\n",
      "\u001b[1m\u001b[38;5;208mVersion Keras: 3.8.0\n",
      "\u001b[1m\u001b[38;5;208mUsing backend: tensorflow\n",
      "\u001b[1m\u001b[38;5;208mVersion pandas: 2.2.3\n",
      "\u001b[1m\u001b[38;5;208mVersion numpy: 2.0.2\n",
      "\u001b[1m\u001b[38;5;208mVersion tensorflow: 2.18.0\n"
     ]
    }
   ],
   "source": [
    "#LSTM caso 1: MULTIVADIADO - MULTISTEP\n",
    "\n",
    "#Obtencion de la data y procesados de datos\n",
    "import pyodbc\n",
    "import os\n",
    "import pandas as pd\n",
    "from datetime import date, datetime, timedelta\n",
    "import numpy as np\n",
    "from sklearn.ensemble import IsolationForest\n",
    "\n",
    "#Gráfios\n",
    "import matplotlib.pylab as plt\n",
    "%matplotlib inline\n",
    "from skforecast.plot import set_dark_theme\n",
    "import plotly.express as px\n",
    "import plotly.graph_objects as go\n",
    "import plotly.io as pio\n",
    "import plotly.offline as poff\n",
    "pio.templates.default = \"seaborn\"\n",
    "poff.init_notebook_mode(connected=True)\n",
    "\n",
    "# Keras\n",
    "# ==============================================================================\n",
    "os.environ[\"KERAS_BACKEND\"] = \"tensorflow\" # 'tensorflow', 'jax´ or 'torch'\n",
    "import keras\n",
    "from keras.optimizers import Adam\n",
    "from keras.losses import MeanSquaredError\n",
    "from keras.callbacks import EarlyStopping\n",
    "\n",
    "if keras.__version__ > \"3.0\":\n",
    "    if keras.backend.backend() == \"tensorflow\":\n",
    "        import tensorflow\n",
    "    elif keras.backend.backend() == \"torch\":\n",
    "        import torch\n",
    "    else:\n",
    "        print(\"Backend not recognized. Please use 'tensorflow' or 'torch'.\")\n",
    "\n",
    "# Modelado \n",
    "# ==============================================================================\n",
    "import skforecast\n",
    "from skforecast.deep_learning import ForecasterRnn\n",
    "from skforecast.deep_learning.utils import create_and_compile_model\n",
    "from sklearn.preprocessing import MinMaxScaler\n",
    "from skforecast.model_selection import TimeSeriesFold\n",
    "from skforecast.model_selection import backtesting_forecaster_multiseries\n",
    "\n",
    "# Configuración warnings\n",
    "# ==============================================================================\n",
    "import warnings\n",
    "warnings.filterwarnings('once')\n",
    "\n",
    "color = '\\033[1m\\033[38;5;208m' \n",
    "print(f\"{color}Version skforecast: {skforecast.__version__}\")\n",
    "print(f\"{color}Version Keras: {keras.__version__}\")\n",
    "print(f\"{color}Using backend: {keras.backend.backend()}\")\n",
    "print(f\"{color}Version pandas: {pd.__version__}\")\n",
    "print(f\"{color}Version numpy: {np.__version__}\")\n",
    "if keras.__version__ > \"3.0\":\n",
    "    if keras.backend.backend() == \"tensorflow\":\n",
    "        print(f\"{color}Version tensorflow: {tensorflow.__version__}\")\n",
    "    elif keras.backend.backend() == \"torch\":\n",
    "        print(f\"{color}Version torch: {torch.__version__}\")\n",
    "    else:\n",
    "        print(f\"{color}Version torch: {jax.__version__}\")"
   ]
  },
  {
   "cell_type": "markdown",
   "id": "59870fda",
   "metadata": {},
   "source": [
    "# Preparación de la data\n",
    "Haremos una consulta hacia la base de datos para extraer toda la data histórica"
   ]
  },
  {
   "cell_type": "code",
   "execution_count": null,
   "id": "2059fed8",
   "metadata": {},
   "outputs": [],
   "source": [
    "def get_sqlconnection(config_sqlServer):\n",
    "    status = \"inicializando....\"\n",
    "    try: \n",
    "        connection = pyodbc.connect(config_sqlServer)\n",
    "        status = \"Conexion establecida satisfactoriamente\"\n",
    "    except Exception as e:\n",
    "        status = \"Error al establecer la conexión:\"+e\n",
    "    print(status)\n",
    "    return connection"
   ]
  },
  {
   "cell_type": "code",
   "execution_count": 3,
   "id": "60669b9d",
   "metadata": {},
   "outputs": [],
   "source": [
    "def set_index_datetime(data):\n",
    "        if str(type(data) == \"<class 'pandas.core.frame.DataFrame'>\"):\n",
    "            # data.sort_values('fecha', inplace=True)\n",
    "            for column in data.columns: \n",
    "                try: \n",
    "                    pd.to_datetime(data[column])\n",
    "                    data.set_index(column,inplace=True)\n",
    "                    return data\n",
    "                except Exception as e:  \n",
    "                    pass\n",
    "        else: \n",
    "            return 0"
   ]
  },
  {
   "cell_type": "markdown",
   "id": "e7e9f95d",
   "metadata": {},
   "source": [
    "* Consultas"
   ]
  },
  {
   "cell_type": "code",
   "execution_count": 4,
   "id": "946721f8",
   "metadata": {},
   "outputs": [],
   "source": [
    "# parámetros de conexión\n",
    "sql_server = \"\"\"\n",
    "DRIVER={ODBC Driver 17 for SQL Server};\n",
    "server=US3RN4M3;\n",
    "database=AdventureWorksDW2022;\n",
    "Trusted_connection=yes;\n",
    "\"\"\""
   ]
  },
  {
   "cell_type": "code",
   "execution_count": 5,
   "id": "7440bffc",
   "metadata": {},
   "outputs": [],
   "source": [
    "# Consulta 1 para obtener la data histórica con las features \n",
    "query = \"\"\"\n",
    "SELECT\n",
    "    CAST(OrderDate AS DATE) AS Date\n",
    "    ,YEAR([OrderDate]) AS [YEAR]\n",
    "    ,MONTH([OrderDate]) AS [MONTH]\n",
    "    ,DAY([OrderDate]) AS [Day]\n",
    "    ,DATEPART(weekday, [OrderDate]) - 1 AS [DayOfWeek]\n",
    "    ,CASE\n",
    "        WHEN DATEPART(weekday, [OrderDate]) IN (7, 1) THEN 1\n",
    "        ELSE 0\n",
    "    END AS IsWeekend\n",
    "    ,[ProductKey]\n",
    "    ,Sum([OrderQuantity]) AS OrderQuantity\n",
    "    ,Sum([UnitPrice]) AS UnitPrice\n",
    "    ,Sum([UnitPriceDiscountPct]) As UnitPriceDiscountPct\n",
    "    ,Sum([DiscountAmount]) AS DiscountAmount\n",
    "    ,Sum([ProductStandardCost]) AS ProductStandardCost\n",
    "    ,Sum([SalesAmount]) AS SalesAmount\n",
    "    FROM [AdventureWorksDW2022].[dbo].[FactInternetSales]\n",
    "    WHERE\n",
    "    [FactInternetSales].OrderDate < '2013-12-01'\n",
    "    group by YEAR([OrderDate]),MONTH([OrderDate]),DAY([OrderDate]),DATENAME(weekday,[OrderDate]),[OrderDate],[ProductKey]\n",
    "    order by YEAR([OrderDate]) ASC,MONTH([OrderDate]) ASC,DAY([OrderDate]) ASC\n",
    "\"\"\""
   ]
  },
  {
   "cell_type": "code",
   "execution_count": 6,
   "id": "176629fd",
   "metadata": {},
   "outputs": [],
   "source": [
    "# Consulta 2 para obtener la data de historica de ventas en general diarias de un producto x\n",
    "query2 = \"\"\"\n",
    "SELECT \n",
    "    CAST(f.OrderDate AS DATE) AS sales_date,\n",
    "    CAST(SUM(f.OrderQuantity) AS INT) AS TotalVentas\n",
    "FROM \n",
    "    FactInternetSales AS f\n",
    "WHERE \n",
    "    f.OrderDate > '2013-08-19'\n",
    "    AND f.OrderDate < '2013-09-20'\n",
    "    AND f.ProductKey = 214  \n",
    "GROUP BY \n",
    "    CAST(f.OrderDate AS DATE)\n",
    "ORDER BY \n",
    "    CAST(f.OrderDate AS DATE) ASC;\n",
    "\"\"\""
   ]
  },
  {
   "cell_type": "code",
   "execution_count": 7,
   "id": "5e1899bf",
   "metadata": {},
   "outputs": [],
   "source": [
    "#Consulta 3 para obtener el listado de los precios de los prodúctos\n",
    "queryProducts = \"\"\"\n",
    "SELECT\n",
    "    p.ProductKey,\n",
    "    p.StandardCost,\n",
    "    p.ListPrice AS Price\n",
    "FROM\n",
    "    DimProduct AS p\n",
    "WHERE\n",
    "    p.ProductKey IS NOT NULL \n",
    "\tAND p.StandardCost IS NOT NULL\n",
    "\tAND p.ListPrice IS NOT NULL;\n",
    "\"\"\""
   ]
  },
  {
   "cell_type": "markdown",
   "id": "8f6d458d",
   "metadata": {},
   "source": [
    "* Hiperparámetros"
   ]
  },
  {
   "cell_type": "code",
   "execution_count": 8,
   "id": "f0b25583",
   "metadata": {},
   "outputs": [],
   "source": [
    "PASOS = 31\n",
    "TRAINING_PERCENTAGE = 0.7\n",
    "VALIDATION_PERCENTAGE = 0.2\n",
    "# TEST_PERCENTAGE = 0.1\n",
    "\n",
    "N_PREDICTIONS = 31\n",
    "EPOCHS = 10\n",
    "NEURONS = 64 #Mismo que el de pasos\n",
    "#NOTAS DE ESTA PARTE: el número de pasos no es correlativo al No. de predicciones\n",
    "#ya que, las predicciones pudieran ser de 61 días y el No. de pasos siempre serán 31, ya que bajo\n",
    "#ese proceso se hizo el entrenamiento"
   ]
  },
  {
   "cell_type": "markdown",
   "id": "02376475",
   "metadata": {},
   "source": [
    "#### Obtenemos la data de la base de datos"
   ]
  },
  {
   "cell_type": "code",
   "execution_count": 9,
   "id": "2f22a26c",
   "metadata": {},
   "outputs": [
    {
     "name": "stdout",
     "output_type": "stream",
     "text": [
      "Conexion establecida satisfactoriamente\n"
     ]
    },
    {
     "name": "stderr",
     "output_type": "stream",
     "text": [
      "C:\\Users\\JoCel\\AppData\\Local\\Temp\\ipykernel_5960\\1889091081.py:5: UserWarning:\n",
      "\n",
      "pandas only supports SQLAlchemy connectable (engine/connection) or database string URI or sqlite3 DBAPI2 connection. Other DBAPI2 objects are not tested. Please consider using SQLAlchemy.\n",
      "\n"
     ]
    }
   ],
   "source": [
    "#obtenemos la data sobre la base de datos\n",
    "with get_sqlconnection(sql_server) as cursor:\n",
    "\n",
    "    #Data con features\n",
    "    prepData = pd.read_sql_query(query,cursor)\n",
    "\n",
    "    #historial de la data con order Quantity por día en general\n",
    "    historyData = pd.read_sql_query(query2,cursor)\n",
    "\n",
    "    #Obtención de los precios de los productos\n",
    "    dataProduct = pd.read_sql_query(queryProducts,cursor)"
   ]
  },
  {
   "cell_type": "code",
   "execution_count": null,
   "id": "850f3abd",
   "metadata": {},
   "outputs": [],
   "source": [
    "    "
   ]
  },
  {
   "cell_type": "code",
   "execution_count": 10,
   "id": "5f399a17",
   "metadata": {},
   "outputs": [],
   "source": [
    "    # Ordenar Por medio del productkey\n",
    "    df = prepData.sort_values(['ProductKey', 'Date'])\n",
    "\n",
    "    #Modificamos para tener un elemento de datetime\n",
    "    df = set_index_datetime(df)\n",
    "\n",
    "    # Creamos una copia de los datos\n",
    "    dfg = df.copy()\n",
    "\n",
    "    #Obtenemos una lista de todos los productos registrados en la data\n",
    "    productKeysIDS = dfg['ProductKey'].unique()"
   ]
  },
  {
   "cell_type": "code",
   "execution_count": 11,
   "id": "08665641",
   "metadata": {},
   "outputs": [
    {
     "data": {
      "image/png": "[encoded data removed]",
      "text/plain": [
       "<Figure size 1200x600 with 1 Axes>"
      ]
     },
     "metadata": {},
     "output_type": "display_data"
    }
   ],
   "source": [
    "    #Esta parte solo es de control para identificar qué productKeys tienen menos\n",
    "    #registros de ventas o time_steps\n",
    "    countProduct = dfg.groupby('ProductKey').size().copy()\n",
    "    countProduct_sorted = countProduct.sort_values(ascending=False)\n",
    "    plt.figure(figsize=(12, 6))\n",
    "    ax = countProduct_sorted.plot(kind='bar')   \n",
    "    ax.set_xticklabels([''] * len(countProduct_sorted))\n",
    "    limite = 32\n",
    "    plt.axhline(y=limite, color='red', linestyle='--', linewidth=2, label=f'Límite = {limite}')\n",
    "    plt.legend()\n",
    "    # countProduct.sort_values(ascending=False).plot(kind='bar', figsize=(12, 6))\n",
    "    plt.xlabel('ProductKey')\n",
    "    plt.ylabel('Cantidad de registros')\n",
    "    plt.title('Cantidad de elementos por ProductKey')\n",
    "    plt.show()"
   ]
  },
  {
   "cell_type": "code",
   "execution_count": 12,
   "id": "4bfd8ee6",
   "metadata": {},
   "outputs": [
    {
     "name": "stdout",
     "output_type": "stream",
     "text": [
      "* ID:  334  steps:  27  <-\n",
      "* ID:  328  steps:  24  <-\n",
      "* ID:  326  steps:  22  <-\n",
      "* ID:  336  steps:  22  <-\n",
      "* ID:  320  steps:  19  <-\n",
      "* ID:  330  steps:  19  <-\n",
      "* ID:  338  steps:  18  <-\n",
      "* ID:  322  steps:  17  <-\n",
      "* ID:  332  steps:  17  <-\n",
      "* ID:  340  steps:  16  <-\n",
      "* ID:  324  steps:  15  <-\n"
     ]
    }
   ],
   "source": [
    "    #En esta parte se detalla quien no cumple con el requisito\n",
    "    for pk,freq in countProduct_sorted.items():\n",
    "        if freq < int(PASOS+1):\n",
    "            print(\"* ID: \",pk,\" steps: \",freq,\" <-\")"
   ]
  },
  {
   "cell_type": "code",
   "execution_count": 13,
   "id": "f765a75a",
   "metadata": {},
   "outputs": [],
   "source": [
    "    #Columna que deseamos predecir\n",
    "    target_col = 'OrderQuantity'\n",
    "\n",
    "    #Generamos una columna para detectar si hay ventas o no\n",
    "    isSelledCol = 'IsSelled'\n",
    "\n",
    "    #generamos una lista de las 'x_features'\n",
    "    features = list(df.columns.copy())\n",
    "\n",
    "    #agregamos la nueva columna\n",
    "    features.append(isSelledCol)\n",
    "\n",
    "    #obtenemos una copia de todas las columnas\n",
    "    all_columns = features.copy()\n",
    "\n",
    "    #eliminamos la columna target\n",
    "    features.remove(target_col)\n",
    "    # print(len(features))"
   ]
  },
  {
   "cell_type": "markdown",
   "id": "f683747c",
   "metadata": {},
   "source": [
    "### Contexto: tratamniento de datos\n",
    "Se pretende realizar una serie de procedimientos que permitan mejorar la calidad de las predicciones del modelo, una de las ventajas de LSTM es que a diferencia de modelos convencionales o ARIMA, donde se requieren hacer  procedimientos para ayudar al modelo a mejorar los datos de entrenammiento, con LSTM, puede llegar a tener una mejor comprensión sobre la data. "
   ]
  },
  {
   "cell_type": "code",
   "execution_count": 14,
   "id": "05078148",
   "metadata": {},
   "outputs": [],
   "source": [
    "'''\n",
    "En este método se pretende que pueda separar cada ventana deslizantes con las claves del producto\n",
    "cada productKey tendrá su slidding window con sus propios time_steps \n",
    "'''\n",
    "def split_sequences(df, time_steps, features, target):\n",
    "    #Separamos en dos grupos, X que contiene todos los features, y Y que contiene la\n",
    "    X, y = [], []\n",
    "    for _, grupo in df.groupby('ProductKey'):\n",
    "        datos = grupo[features].values\n",
    "        target_vals = grupo[target].values\n",
    "        for i in range(len(datos) - time_steps):\n",
    "            X.append(datos[i:i+time_steps])\n",
    "            y.append(target_vals[i:i+time_steps])\n",
    "            # y.append(target_vals[i+time_steps])\n",
    "    return np.array(X), np.array(y)"
   ]
  },
  {
   "cell_type": "markdown",
   "id": "6426d9d2",
   "metadata": {},
   "source": [
    "Lo que se pretende con el algortimo, es obtener la data directamente de la BD, y hacer un tratamiento de datos en el que eliminen valores vacíos y se prepare la data lo más limpio posible para poder brindar un buen entrenamiento para el modelo"
   ]
  },
  {
   "cell_type": "code",
   "execution_count": 15,
   "id": "46bf2c51",
   "metadata": {},
   "outputs": [],
   "source": [
    "def tratamiento_datos(data, columns, features, target_col, new_col, productKeysIDS, dataProduct):\n",
    "    val = data.copy()\n",
    "    val = val.reset_index()\n",
    "\n",
    "    series_modified = []\n",
    "\n",
    "    for i, group in val.groupby('ProductKey'):\n",
    "\n",
    "        #obtenemos el productKeyActual\n",
    "        producK_ID = group['ProductKey'].iloc[0]\n",
    "\n",
    "        #obtener la fecha inicial\n",
    "        date_ini = group['Date'].min()\n",
    "\n",
    "        #obtener la fecha final\n",
    "        date_last = group['Date'].max()\n",
    "\n",
    "        #Comvertimos la columna 'Date' a datetime\n",
    "        group['Date'] = pd.to_datetime(group['Date'], errors='coerce')\n",
    "\n",
    "        #ordenamos la columna\n",
    "        group = group.sort_values('Date')\n",
    "        \n",
    "        #filtramos y obtenemos los valores únicamente en el rango establecido\n",
    "        group = group[(group['Date']>= pd.Timestamp(date_ini)) & (group['Date']<=pd.Timestamp(date_last))]\n",
    "\n",
    "        #seteamos como index\n",
    "        group_index = group.set_index('Date')\n",
    "\n",
    "        #Creamos el rango que debería tener lo ya establecido\n",
    "        days_corrected = pd.date_range(start=date_ini, end=date_last - pd.Timedelta(days=1), freq='D')\n",
    "\n",
    "        #Reindexamos para poder garantizar continuidad (rellenamos los días faltantes)\n",
    "        group_reindex = group_index.reindex(days_corrected)\n",
    "\n",
    "        #Comprobamos, debe haber NaN o NA\n",
    "        # print(group_reindex)\n",
    "\n",
    "        #PASO 2: RELLENAR EL RESTO DE COLUMNAS FALTANTES\n",
    "\n",
    "        group_reindex = group_reindex.reset_index()\n",
    "\n",
    "        #Rellenar columnas relacionado a la fecha\n",
    "        group_reindex['YEAR'] = group_reindex['index'].dt.year\n",
    "        group_reindex['MONTH'] = group_reindex['index'].dt.month\n",
    "        group_reindex['Day'] = group_reindex['index'].dt.day\n",
    "        group_reindex['DayOfWeek'] = group_reindex['index'].dt.dayofweek\n",
    "        group_reindex['IsWeekend'] = group_reindex['DayOfWeek'].apply(lambda x: 1 if x >= 5 else 0)\n",
    "\n",
    "        #setear index\n",
    "        group_reindex = group_reindex.set_index('index')\n",
    "\n",
    "        #COLUMNA TARGET\n",
    "        group_reindex[target_col] = group_reindex[target_col].fillna(0)\n",
    "\n",
    "        #Asegurarnos de que es de tipo int\n",
    "        group_reindex[target_col] = group_reindex[target_col].astype(int)\n",
    "\n",
    "        #Obtenemos el precio unitario\n",
    "        precioUNitario = dataProduct[dataProduct['ProductKey'] == producK_ID]['Price'].values[0]\n",
    "\n",
    "        #obtenemos el envio\n",
    "        precioEnvio = dataProduct[dataProduct['ProductKey'] == producK_ID]['StandardCost'].values[0]\n",
    "\n",
    "        #PRECIO UNITARIO\n",
    "        group_reindex['UnitPrice'] = group_reindex['UnitPrice'].fillna(0.0)\n",
    "\n",
    "        #DESCUENTO UNITARIO\n",
    "        group_reindex['UnitPriceDiscountPct'] = group_reindex['UnitPriceDiscountPct'].fillna(0.0)\n",
    "\n",
    "        #DESCUENTO ACUMULADO\n",
    "        group_reindex['DiscountAmount'] = group_reindex['DiscountAmount'].fillna(0)\n",
    "\n",
    "        #PRECIO DE ENVÍO\n",
    "        group_reindex['ProductStandardCost'] = group_reindex['ProductStandardCost'].fillna(0.0)\n",
    "\n",
    "        #VENTAS\n",
    "        group_reindex['SalesAmount'] = group_reindex['SalesAmount'].fillna(0.0)\n",
    "\n",
    "        #AGREGAR NUEVAMENTE EL PRODUCTKEY\n",
    "        group_reindex['ProductKey'] = producK_ID\n",
    "\n",
    "        #INCLUIMOS UNA NUEVA COLUMNA QUE INDIQUE SI HAY VENTAS\n",
    "        group_reindex[new_col] = group_reindex[target_col].apply(lambda x: 1 if x > 0 else 0)\n",
    "\n",
    "        # print(group_reindex)\n",
    "\n",
    "        # Agregar la serie modificada a la lista\n",
    "        series_modified.append(group_reindex)\n",
    "\n",
    "    data_modified = pd.concat(series_modified)\n",
    "\n",
    "    return data_modified"
   ]
  },
  {
   "cell_type": "code",
   "execution_count": 17,
   "id": "30244748",
   "metadata": {},
   "outputs": [],
   "source": [
    "def train_model(x_train, y_train, x_val, y_val, model):\n",
    "    early_stop = EarlyStopping(monitor='val_mae', patience=5, restore_best_weights=True)\n",
    "    history = model.fit(x_train, y_train, epochs=EPOCHS, batch_size=PASOS,  validation_data=(x_val, y_val),verbose=2,shuffle=False)\n",
    "\n",
    "    # Devolver el modelo entrenado y x_test\n",
    "    return model"
   ]
  },
  {
   "cell_type": "code",
   "execution_count": 18,
   "id": "0b641081",
   "metadata": {},
   "outputs": [],
   "source": [
    "#Haremos tratamiento de datos\n",
    "data_trat = tratamiento_datos(dfg, all_columns,features,target_col,isSelledCol,productKeysIDS,dataProduct)"
   ]
  },
  {
   "cell_type": "markdown",
   "id": "7b544e0f",
   "metadata": {},
   "source": [
    "# Parte 2: Creación del modelo\n",
    "La idea, es crear un modelo con una arquitectura sugerida por skforecast para poder hacer predicciones\n"
   ]
  },
  {
   "cell_type": "code",
   "execution_count": 19,
   "id": "ca9001ea",
   "metadata": {},
   "outputs": [
    {
     "data": {
      "text/plain": [
       "['YEAR',\n",
       " 'MONTH',\n",
       " 'Day',\n",
       " 'DayOfWeek',\n",
       " 'IsWeekend',\n",
       " 'ProductKey',\n",
       " 'OrderQuantity',\n",
       " 'UnitPrice',\n",
       " 'UnitPriceDiscountPct',\n",
       " 'DiscountAmount',\n",
       " 'ProductStandardCost',\n",
       " 'SalesAmount',\n",
       " 'IsSelled']"
      ]
     },
     "execution_count": 19,
     "metadata": {},
     "output_type": "execute_result"
    }
   ],
   "source": [
    "all_columns"
   ]
  },
  {
   "cell_type": "code",
   "execution_count": null,
   "id": "0d0fed7a",
   "metadata": {},
   "outputs": [],
   "source": [
    "# Creación del modelo\n",
    "# ==============================================================================\n",
    "# Series temporales utilizadas en el entrenamiento. Tiene que incluir la serie a predecir.\n",
    "all_columns.remove('ProductKey')\n",
    "series = all_columns\n",
    "level = [target_col] #serie que se quiere predecir\n",
    "lags = PASOS #valores pasados a usar en la prediccion\n",
    "steps = 31 #pasos a futuro a predecir\n",
    "\n",
    "#Agrupamos mediante productKey\n",
    "seriesGB = data_trat.groupby('ProductKey')\n",
    "\n",
    "#Seleccionar las series temporales a usar\n",
    "data = seriesGB.get_group(214).copy()\n",
    "\n",
    "data = data.drop(['ProductKey'], axis=1)\n",
    "\n",
    "# data.reset_index()\n",
    "\n",
    "# print(data)\n",
    "\n",
    "\n",
    "#Nos aseguramos de ordenar los datos\n",
    "# data = data.groupby('ProductKey')\n",
    "\n",
    "# obtener el total de dias \n",
    "total_days = len(data.values)\n",
    "\n",
    "#datos de entrenamiento\n",
    "n_days_training = int(total_days*TRAINING_PERCENTAGE)\n",
    "\n",
    "#datos de validación\n",
    "n_days_validation = int(total_days-(n_days_training+PASOS))\n",
    "\n",
    "#datos de testeo\n",
    "n_days_testing = PASOS\n",
    "\n",
    "#=========== dividimos la data\n",
    "\n",
    "#data traininig\n",
    "data_train = data.iloc[:n_days_training].copy()\n",
    "data_train = data_train.asfreq('D')\n",
    "\n",
    "#data validation \n",
    "data_validation = data.iloc[n_days_training:n_days_training+n_days_validation].copy()\n",
    "data_validation = data_validation.asfreq('D')\n",
    "\n",
    "#data testing\n",
    "data_testing = data.iloc[-n_days_testing:].copy()\n",
    "data_testing = data_testing.asfreq('D')"
   ]
  },
  {
   "cell_type": "code",
   "execution_count": 21,
   "id": "141587e6",
   "metadata": {},
   "outputs": [
    {
     "data": {
      "text/plain": [
       "235"
      ]
     },
     "execution_count": 21,
     "metadata": {},
     "output_type": "execute_result"
    }
   ],
   "source": [
    "len(data_train.values)"
   ]
  },
  {
   "cell_type": "code",
   "execution_count": 22,
   "id": "8dd3ec7c",
   "metadata": {},
   "outputs": [
    {
     "data": {
      "text/plain": [
       "71"
      ]
     },
     "execution_count": 22,
     "metadata": {},
     "output_type": "execute_result"
    }
   ],
   "source": [
    "len(data_validation.values)"
   ]
  },
  {
   "cell_type": "code",
   "execution_count": 23,
   "id": "0736666b",
   "metadata": {},
   "outputs": [
    {
     "data": {
      "text/plain": [
       "31"
      ]
     },
     "execution_count": 23,
     "metadata": {},
     "output_type": "execute_result"
    }
   ],
   "source": [
    "len(data_testing.values)"
   ]
  },
  {
   "cell_type": "markdown",
   "id": "da2c7c8c",
   "metadata": {},
   "source": [
    "# Creamos el modelo"
   ]
  },
  {
   "cell_type": "code",
   "execution_count": 26,
   "id": "42d072dc",
   "metadata": {},
   "outputs": [
    {
     "name": "stdout",
     "output_type": "stream",
     "text": [
      "keras version: 3.8.0\n",
      "Using backend: tensorflow\n",
      "tensorflow version: 2.18.0\n"
     ]
    },
    {
     "data": {
      "text/html": [
       "<pre style=\"white-space:pre;overflow-x:auto;line-height:normal;font-family:Menlo,'DejaVu Sans Mono',consolas,'Courier New',monospace\"><span style=\"font-weight: bold\">Model: \"functional\"</span>\n",
       "</pre>\n"
      ],
      "text/plain": [
       "\u001b[1mModel: \"functional\"\u001b[0m\n"
      ]
     },
     "metadata": {},
     "output_type": "display_data"
    },
    {
     "data": {
      "text/html": [
       "<pre style=\"white-space:pre;overflow-x:auto;line-height:normal;font-family:Menlo,'DejaVu Sans Mono',consolas,'Courier New',monospace\">┏━━━━━━━━━━━━━━━━━━━━━━━━━━━━━━━━━┳━━━━━━━━━━━━━━━━━━━━━━━━┳━━━━━━━━━━━━━━━┓\n",
       "┃<span style=\"font-weight: bold\"> Layer (type)                    </span>┃<span style=\"font-weight: bold\"> Output Shape           </span>┃<span style=\"font-weight: bold\">       Param # </span>┃\n",
       "┡━━━━━━━━━━━━━━━━━━━━━━━━━━━━━━━━━╇━━━━━━━━━━━━━━━━━━━━━━━━╇━━━━━━━━━━━━━━━┩\n",
       "│ input_layer (<span style=\"color: #0087ff; text-decoration-color: #0087ff\">InputLayer</span>)        │ (<span style=\"color: #00d7ff; text-decoration-color: #00d7ff\">None</span>, <span style=\"color: #00af00; text-decoration-color: #00af00\">31</span>, <span style=\"color: #00af00; text-decoration-color: #00af00\">12</span>)         │             <span style=\"color: #00af00; text-decoration-color: #00af00\">0</span> │\n",
       "├─────────────────────────────────┼────────────────────────┼───────────────┤\n",
       "│ lstm (<span style=\"color: #0087ff; text-decoration-color: #0087ff\">LSTM</span>)                     │ (<span style=\"color: #00d7ff; text-decoration-color: #00d7ff\">None</span>, <span style=\"color: #00af00; text-decoration-color: #00af00\">31</span>, <span style=\"color: #00af00; text-decoration-color: #00af00\">100</span>)        │        <span style=\"color: #00af00; text-decoration-color: #00af00\">45,200</span> │\n",
       "├─────────────────────────────────┼────────────────────────┼───────────────┤\n",
       "│ lstm_1 (<span style=\"color: #0087ff; text-decoration-color: #0087ff\">LSTM</span>)                   │ (<span style=\"color: #00d7ff; text-decoration-color: #00d7ff\">None</span>, <span style=\"color: #00af00; text-decoration-color: #00af00\">50</span>)             │        <span style=\"color: #00af00; text-decoration-color: #00af00\">30,200</span> │\n",
       "├─────────────────────────────────┼────────────────────────┼───────────────┤\n",
       "│ dense (<span style=\"color: #0087ff; text-decoration-color: #0087ff\">Dense</span>)                   │ (<span style=\"color: #00d7ff; text-decoration-color: #00d7ff\">None</span>, <span style=\"color: #00af00; text-decoration-color: #00af00\">64</span>)             │         <span style=\"color: #00af00; text-decoration-color: #00af00\">3,264</span> │\n",
       "├─────────────────────────────────┼────────────────────────┼───────────────┤\n",
       "│ dense_1 (<span style=\"color: #0087ff; text-decoration-color: #0087ff\">Dense</span>)                 │ (<span style=\"color: #00d7ff; text-decoration-color: #00d7ff\">None</span>, <span style=\"color: #00af00; text-decoration-color: #00af00\">32</span>)             │         <span style=\"color: #00af00; text-decoration-color: #00af00\">2,080</span> │\n",
       "├─────────────────────────────────┼────────────────────────┼───────────────┤\n",
       "│ dense_2 (<span style=\"color: #0087ff; text-decoration-color: #0087ff\">Dense</span>)                 │ (<span style=\"color: #00d7ff; text-decoration-color: #00d7ff\">None</span>, <span style=\"color: #00af00; text-decoration-color: #00af00\">31</span>)             │         <span style=\"color: #00af00; text-decoration-color: #00af00\">1,023</span> │\n",
       "├─────────────────────────────────┼────────────────────────┼───────────────┤\n",
       "│ reshape (<span style=\"color: #0087ff; text-decoration-color: #0087ff\">Reshape</span>)               │ (<span style=\"color: #00d7ff; text-decoration-color: #00d7ff\">None</span>, <span style=\"color: #00af00; text-decoration-color: #00af00\">31</span>, <span style=\"color: #00af00; text-decoration-color: #00af00\">1</span>)          │             <span style=\"color: #00af00; text-decoration-color: #00af00\">0</span> │\n",
       "└─────────────────────────────────┴────────────────────────┴───────────────┘\n",
       "</pre>\n"
      ],
      "text/plain": [
       "┏━━━━━━━━━━━━━━━━━━━━━━━━━━━━━━━━━┳━━━━━━━━━━━━━━━━━━━━━━━━┳━━━━━━━━━━━━━━━┓\n",
       "┃\u001b[1m \u001b[0m\u001b[1mLayer (type)                   \u001b[0m\u001b[1m \u001b[0m┃\u001b[1m \u001b[0m\u001b[1mOutput Shape          \u001b[0m\u001b[1m \u001b[0m┃\u001b[1m \u001b[0m\u001b[1m      Param #\u001b[0m\u001b[1m \u001b[0m┃\n",
       "┡━━━━━━━━━━━━━━━━━━━━━━━━━━━━━━━━━╇━━━━━━━━━━━━━━━━━━━━━━━━╇━━━━━━━━━━━━━━━┩\n",
       "│ input_layer (\u001b[38;5;33mInputLayer\u001b[0m)        │ (\u001b[38;5;45mNone\u001b[0m, \u001b[38;5;34m31\u001b[0m, \u001b[38;5;34m12\u001b[0m)         │             \u001b[38;5;34m0\u001b[0m │\n",
       "├─────────────────────────────────┼────────────────────────┼───────────────┤\n",
       "│ lstm (\u001b[38;5;33mLSTM\u001b[0m)                     │ (\u001b[38;5;45mNone\u001b[0m, \u001b[38;5;34m31\u001b[0m, \u001b[38;5;34m100\u001b[0m)        │        \u001b[38;5;34m45,200\u001b[0m │\n",
       "├─────────────────────────────────┼────────────────────────┼───────────────┤\n",
       "│ lstm_1 (\u001b[38;5;33mLSTM\u001b[0m)                   │ (\u001b[38;5;45mNone\u001b[0m, \u001b[38;5;34m50\u001b[0m)             │        \u001b[38;5;34m30,200\u001b[0m │\n",
       "├─────────────────────────────────┼────────────────────────┼───────────────┤\n",
       "│ dense (\u001b[38;5;33mDense\u001b[0m)                   │ (\u001b[38;5;45mNone\u001b[0m, \u001b[38;5;34m64\u001b[0m)             │         \u001b[38;5;34m3,264\u001b[0m │\n",
       "├─────────────────────────────────┼────────────────────────┼───────────────┤\n",
       "│ dense_1 (\u001b[38;5;33mDense\u001b[0m)                 │ (\u001b[38;5;45mNone\u001b[0m, \u001b[38;5;34m32\u001b[0m)             │         \u001b[38;5;34m2,080\u001b[0m │\n",
       "├─────────────────────────────────┼────────────────────────┼───────────────┤\n",
       "│ dense_2 (\u001b[38;5;33mDense\u001b[0m)                 │ (\u001b[38;5;45mNone\u001b[0m, \u001b[38;5;34m31\u001b[0m)             │         \u001b[38;5;34m1,023\u001b[0m │\n",
       "├─────────────────────────────────┼────────────────────────┼───────────────┤\n",
       "│ reshape (\u001b[38;5;33mReshape\u001b[0m)               │ (\u001b[38;5;45mNone\u001b[0m, \u001b[38;5;34m31\u001b[0m, \u001b[38;5;34m1\u001b[0m)          │             \u001b[38;5;34m0\u001b[0m │\n",
       "└─────────────────────────────────┴────────────────────────┴───────────────┘\n"
      ]
     },
     "metadata": {},
     "output_type": "display_data"
    },
    {
     "data": {
      "text/html": [
       "<pre style=\"white-space:pre;overflow-x:auto;line-height:normal;font-family:Menlo,'DejaVu Sans Mono',consolas,'Courier New',monospace\"><span style=\"font-weight: bold\"> Total params: </span><span style=\"color: #00af00; text-decoration-color: #00af00\">81,767</span> (319.40 KB)\n",
       "</pre>\n"
      ],
      "text/plain": [
       "\u001b[1m Total params: \u001b[0m\u001b[38;5;34m81,767\u001b[0m (319.40 KB)\n"
      ]
     },
     "metadata": {},
     "output_type": "display_data"
    },
    {
     "data": {
      "text/html": [
       "<pre style=\"white-space:pre;overflow-x:auto;line-height:normal;font-family:Menlo,'DejaVu Sans Mono',consolas,'Courier New',monospace\"><span style=\"font-weight: bold\"> Trainable params: </span><span style=\"color: #00af00; text-decoration-color: #00af00\">81,767</span> (319.40 KB)\n",
       "</pre>\n"
      ],
      "text/plain": [
       "\u001b[1m Trainable params: \u001b[0m\u001b[38;5;34m81,767\u001b[0m (319.40 KB)\n"
      ]
     },
     "metadata": {},
     "output_type": "display_data"
    },
    {
     "data": {
      "text/html": [
       "<pre style=\"white-space:pre;overflow-x:auto;line-height:normal;font-family:Menlo,'DejaVu Sans Mono',consolas,'Courier New',monospace\"><span style=\"font-weight: bold\"> Non-trainable params: </span><span style=\"color: #00af00; text-decoration-color: #00af00\">0</span> (0.00 B)\n",
       "</pre>\n"
      ],
      "text/plain": [
       "\u001b[1m Non-trainable params: \u001b[0m\u001b[38;5;34m0\u001b[0m (0.00 B)\n"
      ]
     },
     "metadata": {},
     "output_type": "display_data"
    }
   ],
   "source": [
    "model = create_and_compile_model(\n",
    "    series=data_train,\n",
    "    levels=level,\n",
    "    lags=lags,\n",
    "    steps=steps,\n",
    "    recurrent_layer=\"LSTM\",\n",
    "    recurrent_units=[100,50],\n",
    "    dense_units=[64,32],\n",
    "    optimizer=Adam(learning_rate=0.01), \n",
    "    loss=MeanSquaredError()\n",
    "    )\n",
    "model.summary()"
   ]
  },
  {
   "cell_type": "markdown",
   "id": "140ae4e5",
   "metadata": {},
   "source": [
    "### Instancia de Forecaster\n",
    "cojn esto, se le añade al modelo de regresión todas las funcionalidades necesarias para poder utilizarse en problemas de forecasting"
   ]
  },
  {
   "cell_type": "code",
   "execution_count": 27,
   "id": "a2031b3c",
   "metadata": {},
   "outputs": [
    {
     "data": {
      "text/plain": [
       "============= \n",
       "ForecasterRnn \n",
       "============= \n",
       "Regressor: <Functional name=functional, built=True> \n",
       "Lags: [ 1  2  3  4  5  6  7  8  9 10 11 12 13 14 15 16 17 18 19 20 21 22 23 24\n",
       " 25 26 27 28 29 30 31] \n",
       "Transformer for series: MinMaxScaler() \n",
       "Window size: 31 \n",
       "Target series, levels: ['OrderQuantity'] \n",
       "Multivariate series (names): None \n",
       "Maximum steps predicted: [ 1  2  3  4  5  6  7  8  9 10 11 12 13 14 15 16 17 18 19 20 21 22 23 24\n",
       " 25 26 27 28 29 30 31] \n",
       "Training range: None \n",
       "Training index type: None \n",
       "Training index frequency: None \n",
       "Model parameters: {'name': 'functional', 'trainable': True, 'layers': [{'module': 'keras.layers', 'class_name': 'InputLayer', 'config': {'batch_shape': (None, 31, 12), 'dtype': 'float32', 'sparse': False, 'name': 'input_layer'}, 'registered_name': None, 'name': 'input_layer', 'inbound_nodes': []}, {'module': 'keras.layers', 'class_name': 'LSTM', 'config': {'name': 'lstm', 'trainable': True, 'dtype': {'module': 'keras', 'class_name': 'DTypePolicy', 'config': {'name': 'float32'}, 'registered_name': None}, 'return_sequences': True, 'return_state': False, 'go_backwards': False, 'stateful': False, 'unroll': False, 'zero_output_for_mask': False, 'units': 100, 'activation': 'relu', 'recurrent_activation': 'sigmoid', 'use_bias': True, 'kernel_initializer': {'module': 'keras.initializers', 'class_name': 'GlorotUniform', 'config': {'seed': None}, 'registered_name': None}, 'recurrent_initializer': {'module': 'keras.initializers', 'class_name': 'Orthogonal', 'config': {'seed': None, 'gain': 1.0}, 'registered_name': None}, 'bias_initializer': {'module': 'keras.initializers', 'class_name': 'Zeros', 'config': {}, 'registered_name': None}, 'unit_forget_bias': True, 'kernel_regularizer': None, 'recurrent_regularizer': None, 'bias_regularizer': None, 'activity_regularizer': None, 'kernel_constraint': None, 'recurrent_constraint': None, 'bias_constraint': None, 'dropout': 0.0, 'recurrent_dropout': 0.0, 'seed': None}, 'registered_name': None, 'build_config': {'input_shape': (None, 31, 12)}, 'name': 'lstm', 'inbound_nodes': [{'args': ({'class_name': '__keras_tensor__', 'config': {'shape': (None, 31, 12), 'dtype': 'float32', 'keras_history': ['input_layer', 0, 0]}},), 'kwargs': {'training': False, 'mask': None}}]}, {'module': 'keras.layers', 'class_name': 'LSTM', 'config': {'name': 'lstm_1', 'trainable': True, 'dtype': {'module': 'keras', 'class_name': 'DTypePolicy', 'config': {'name': 'float32'}, 'registered_name': None}, 'return_sequences': False, 'return_state': False, 'go_backwards': False, 'stateful': False, 'unroll': False, 'zero_output_for_mask': False, 'units': 50, 'activation': 'relu', 'recurrent_activation': 'sigmoid', 'use_bias': True, 'kernel_initializer': {'module': 'keras.initializers', 'class_name': 'GlorotUniform', 'config': {'seed': None}, 'registered_name': None}, 'recurrent_initializer': {'module': 'keras.initializers', 'class_name': 'Orthogonal', 'config': {'seed': None, 'gain': 1.0}, 'registered_name': None}, 'bias_initializer': {'module': 'keras.initializers', 'class_name': 'Zeros', 'config': {}, 'registered_name': None}, 'unit_forget_bias': True, 'kernel_regularizer': None, 'recurrent_regularizer': None, 'bias_regularizer': None, 'activity_regularizer': None, 'kernel_constraint': None, 'recurrent_constraint': None, 'bias_constraint': None, 'dropout': 0.0, 'recurrent_dropout': 0.0, 'seed': None}, 'registered_name': None, 'build_config': {'input_shape': (None, 31, 100)}, 'name': 'lstm_1', 'inbound_nodes': [{'args': ({'class_name': '__keras_tensor__', 'config': {'shape': (None, 31, 100), 'dtype': 'float32', 'keras_history': ['lstm', 0, 0]}},), 'kwargs': {'training': False, 'mask': None}}]}, {'module': 'keras.layers', 'class_name': 'Dense', 'config': {'name': 'dense', 'trainable': True, 'dtype': {'module': 'keras', 'class_name': 'DTypePolicy', 'config': {'name': 'float32'}, 'registered_name': None}, 'units': 64, 'activation': 'relu', 'use_bias': True, 'kernel_initializer': {'module': 'keras.initializers', 'class_name': 'GlorotUniform', 'config': {'seed': None}, 'registered_name': None}, 'bias_initializer': {'module': 'keras.initializers', 'class_name': 'Zeros', 'config': {}, 'registered_name': None}, 'kernel_regularizer': None, 'bias_regularizer': None, 'kernel_constraint': None, 'bias_constraint': None}, 'registered_name': None, 'build_config': {'input_shape': (None, 50)}, 'name': 'dense', 'inbound_nodes': [{'args': ({'class_name': '__keras_tensor__', 'config': {'shape': (None, 50), 'dtype': 'float32', 'keras_history': ['lstm_1', 0, 0]}},), 'kwargs': {}}]}, {'module': 'keras.layers', 'class_name': 'Dense', 'config': {'name': 'dense_1', 'trainable': True, 'dtype': {'module': 'keras', 'class_name': 'DTypePolicy', 'config': {'name': 'float32'}, 'registered_name': None}, 'units': 32, 'activation': 'relu', 'use_bias': True, 'kernel_initializer': {'module': 'keras.initializers', 'class_name': 'GlorotUniform', 'config': {'seed': None}, 'registered_name': None}, 'bias_initializer': {'module': 'keras.initializers', 'class_name': 'Zeros', 'config': {}, 'registered_name': None}, 'kernel_regularizer': None, 'bias_regularizer': None, 'kernel_constraint': None, 'bias_constraint': None}, 'registered_name': None, 'build_config': {'input_shape': (None, 64)}, 'name': 'dense_1', 'inbound_nodes': [{'args': ({'class_name': '__keras_tensor__', 'config': {'shape': (None, 64), 'dtype': 'float32', 'keras_history': ['dense', 0, 0]}},), 'kwargs': {}}]}, {'module': 'keras.layers', 'class_name': 'Dense', 'config': {'name': 'dense_2', 'trainable': True, 'dtype': {'module': 'keras', 'class_name': 'DTypePolicy', 'config': {'name': 'float32'}, 'registered_name': None}, 'units': 31, 'activation': 'linear', 'use_bias': True, 'kernel_initializer': {'module': 'keras.initializers', 'class_name': 'GlorotUniform', 'config': {'seed': None}, 'registered_name': None}, 'bias_initializer': {'module': 'keras.initializers', 'class_name': 'Zeros', 'config': {}, 'registered_name': None}, 'kernel_regularizer': None, 'bias_regularizer': None, 'kernel_constraint': None, 'bias_constraint': None}, 'registered_name': None, 'build_config': {'input_shape': (None, 32)}, 'name': 'dense_2', 'inbound_nodes': [{'args': ({'class_name': '__keras_tensor__', 'config': {'shape': (None, 32), 'dtype': 'float32', 'keras_history': ['dense_1', 0, 0]}},), 'kwargs': {}}]}, {'module': 'keras.layers', 'class_name': 'Reshape', 'config': {'name': 'reshape', 'trainable': True, 'dtype': {'module': 'keras', 'class_name': 'DTypePolicy', 'config': {'name': 'float32'}, 'registered_name': None}, 'target_shape': (31, 1)}, 'registered_name': None, 'build_config': {'input_shape': (None, 31)}, 'name': 'reshape', 'inbound_nodes': [{'args': ({'class_name': '__keras_tensor__', 'config': {'shape': (None, 31), 'dtype': 'float32', 'keras_history': ['dense_2', 0, 0]}},), 'kwargs': {}}]}], 'input_layers': [['input_layer', 0, 0]], 'output_layers': [['reshape', 0, 0]]} \n",
       "Compile parameters: {'optimizer': {'module': 'keras.optimizers', 'class_name': 'Adam', 'config': {'name': 'adam', 'learning_rate': 0.009999999776482582, 'weight_decay': None, 'clipnorm': None, 'global_clipnorm': None, 'clipvalue': None, 'use_ema': False, 'ema_momentum': 0.99, 'ema_overwrite_frequency': None, 'loss_scale_factor': None, 'gradient_accumulation_steps': None, 'beta_1': 0.9, 'beta_2': 0.999, 'epsilon': 1e-07, 'amsgrad': False}, 'registered_name': None}, 'loss': {'module': 'keras.losses', 'class_name': 'MeanSquaredError', 'config': {'name': 'mean_squared_error', 'reduction': 'sum_over_batch_size'}, 'registered_name': None}, 'loss_weights': None, 'metrics': None, 'weighted_metrics': None, 'run_eagerly': False, 'steps_per_execution': 1, 'jit_compile': False} \n",
       "fit_kwargs: {'epochs': 10, 'batch_size': 31} \n",
       "Creation date: 2025-05-21 12:39:12 \n",
       "Last fit date: None \n",
       "Skforecast version: 0.16.0 \n",
       "Python version: 3.11.4 \n",
       "Forecaster id: None "
      ]
     },
     "execution_count": 27,
     "metadata": {},
     "output_type": "execute_result"
    }
   ],
   "source": [
    "forecaster = ForecasterRnn(\n",
    "    regressor=model,\n",
    "    levels=level,\n",
    "    steps=steps,\n",
    "    lags=lags,\n",
    "    transformer_series=MinMaxScaler(),\n",
    "    fit_kwargs={\n",
    "        \"epochs\":10,\n",
    "        \"batch_size\":PASOS,\n",
    "        \"series_val\": data_validation\n",
    "    },\n",
    ")\n",
    "forecaster"
   ]
  },
  {
   "cell_type": "code",
   "execution_count": 28,
   "id": "c69afe81",
   "metadata": {},
   "outputs": [
    {
     "name": "stdout",
     "output_type": "stream",
     "text": [
      "Epoch 1/10\n",
      "\u001b[1m6/6\u001b[0m \u001b[32m━━━━━━━━━━━━━━━━━━━━\u001b[0m\u001b[37m\u001b[0m \u001b[1m7s\u001b[0m 243ms/step - loss: 0.5134 - val_loss: 0.2338\n",
      "Epoch 2/10\n",
      "\u001b[1m6/6\u001b[0m \u001b[32m━━━━━━━━━━━━━━━━━━━━\u001b[0m\u001b[37m\u001b[0m \u001b[1m0s\u001b[0m 59ms/step - loss: 0.1322 - val_loss: 0.1686\n",
      "Epoch 3/10\n",
      "\u001b[1m6/6\u001b[0m \u001b[32m━━━━━━━━━━━━━━━━━━━━\u001b[0m\u001b[37m\u001b[0m \u001b[1m0s\u001b[0m 60ms/step - loss: 0.0760 - val_loss: 0.1218\n",
      "Epoch 4/10\n",
      "\u001b[1m6/6\u001b[0m \u001b[32m━━━━━━━━━━━━━━━━━━━━\u001b[0m\u001b[37m\u001b[0m \u001b[1m1s\u001b[0m 61ms/step - loss: 0.0454 - val_loss: 0.0863\n",
      "Epoch 5/10\n",
      "\u001b[1m6/6\u001b[0m \u001b[32m━━━━━━━━━━━━━━━━━━━━\u001b[0m\u001b[37m\u001b[0m \u001b[1m1s\u001b[0m 107ms/step - loss: 0.0313 - val_loss: 0.0695\n",
      "Epoch 6/10\n",
      "\u001b[1m6/6\u001b[0m \u001b[32m━━━━━━━━━━━━━━━━━━━━\u001b[0m\u001b[37m\u001b[0m \u001b[1m0s\u001b[0m 76ms/step - loss: 0.0308 - val_loss: 0.0717\n",
      "Epoch 7/10\n",
      "\u001b[1m6/6\u001b[0m \u001b[32m━━━━━━━━━━━━━━━━━━━━\u001b[0m\u001b[37m\u001b[0m \u001b[1m1s\u001b[0m 78ms/step - loss: 0.0297 - val_loss: 0.0653\n",
      "Epoch 8/10\n",
      "\u001b[1m6/6\u001b[0m \u001b[32m━━━━━━━━━━━━━━━━━━━━\u001b[0m\u001b[37m\u001b[0m \u001b[1m1s\u001b[0m 72ms/step - loss: 0.0286 - val_loss: 0.0662\n",
      "Epoch 9/10\n",
      "\u001b[1m6/6\u001b[0m \u001b[32m━━━━━━━━━━━━━━━━━━━━\u001b[0m\u001b[37m\u001b[0m \u001b[1m1s\u001b[0m 68ms/step - loss: 0.0289 - val_loss: 0.0659\n",
      "Epoch 10/10\n",
      "\u001b[1m6/6\u001b[0m \u001b[32m━━━━━━━━━━━━━━━━━━━━\u001b[0m\u001b[37m\u001b[0m \u001b[1m1s\u001b[0m 75ms/step - loss: 0.0277 - val_loss: 0.0651\n"
     ]
    }
   ],
   "source": [
    "forecaster.fit(data_train)"
   ]
  },
  {
   "cell_type": "code",
   "execution_count": 29,
   "id": "0748298d",
   "metadata": {},
   "outputs": [
    {
     "data": {
      "image/png": "[encoded data removed]",
      "text/plain": [
       "<Figure size 500x250 with 1 Axes>"
      ]
     },
     "metadata": {},
     "output_type": "display_data"
    }
   ],
   "source": [
    "fig, ax = plt.subplots(figsize=(5, 2.5))\n",
    "forecaster.plot_history(ax=ax)"
   ]
  },
  {
   "cell_type": "code",
   "execution_count": 30,
   "id": "9346e521",
   "metadata": {},
   "outputs": [],
   "source": [
    "historyData = set_index_datetime(historyData)"
   ]
  },
  {
   "cell_type": "code",
   "execution_count": 31,
   "id": "266f59eb",
   "metadata": {},
   "outputs": [
    {
     "name": "stderr",
     "output_type": "stream",
     "text": [
      "c:\\GitHub\\pronostico\\pronostico\\envprediccion\\Lib\\site-packages\\skforecast\\deep_learning\\_forecaster_rnn.py:768: FutureWarning:\n",
      "\n",
      "Setting an item of incompatible dtype is deprecated and will raise in a future error of pandas. Value '[-0.5 -0.5 -0.5 -0.5 -0.5 -0.5 -0.5 -0.5 -0.5 -0.5 -0.5 -0.5  0.   0.\n",
      "  0.   0.   0.   0.   0.   0.   0.   0.   0.   0.   0.   0.   0.   0.\n",
      "  0.   0.   0. ]' has dtype incompatible with int32, please explicitly cast to a compatible dtype first.\n",
      "\n",
      "c:\\GitHub\\pronostico\\pronostico\\envprediccion\\Lib\\site-packages\\skforecast\\deep_learning\\_forecaster_rnn.py:768: FutureWarning:\n",
      "\n",
      "Setting an item of incompatible dtype is deprecated and will raise in a future error of pandas. Value '[0.63333333 0.66666667 0.7        0.73333333 0.76666667 0.8\n",
      " 0.83333333 0.86666667 0.9        0.93333333 0.96666667 1.\n",
      " 0.         0.03333333 0.06666667 0.1        0.13333333 0.16666667\n",
      " 0.2        0.23333333 0.26666667 0.3        0.33333333 0.36666667\n",
      " 0.4        0.43333333 0.46666667 0.5        0.53333333 0.56666667\n",
      " 0.6       ]' has dtype incompatible with int32, please explicitly cast to a compatible dtype first.\n",
      "\n",
      "c:\\GitHub\\pronostico\\pronostico\\envprediccion\\Lib\\site-packages\\skforecast\\deep_learning\\_forecaster_rnn.py:768: FutureWarning:\n",
      "\n",
      "Setting an item of incompatible dtype is deprecated and will raise in a future error of pandas. Value '[0.83333333 1.         0.         0.16666667 0.33333333 0.5\n",
      " 0.66666667 0.83333333 1.         0.         0.16666667 0.33333333\n",
      " 0.5        0.66666667 0.83333333 1.         0.         0.16666667\n",
      " 0.33333333 0.5        0.66666667 0.83333333 1.         0.\n",
      " 0.16666667 0.33333333 0.5        0.66666667 0.83333333 1.\n",
      " 0.        ]' has dtype incompatible with int32, please explicitly cast to a compatible dtype first.\n",
      "\n",
      "c:\\GitHub\\pronostico\\pronostico\\envprediccion\\Lib\\site-packages\\skforecast\\deep_learning\\_forecaster_rnn.py:768: FutureWarning:\n",
      "\n",
      "Setting an item of incompatible dtype is deprecated and will raise in a future error of pandas. Value '[0.58333333 0.25       0.08333333 0.58333333 0.41666667 0.5\n",
      " 0.33333333 0.75       0.41666667 0.08333333 0.41666667 0.25\n",
      " 0.16666667 0.41666667 0.         0.41666667 0.58333333 0.41666667\n",
      " 0.41666667 0.58333333 0.5        0.16666667 0.5        0.58333333\n",
      " 0.58333333 0.66666667 0.66666667 0.75       0.41666667 0.16666667\n",
      " 0.33333333]' has dtype incompatible with int64, please explicitly cast to a compatible dtype first.\n",
      "\n"
     ]
    },
    {
     "data": {
      "image/png": "[encoded data removed]",
      "text/plain": [
       "<Figure size 1200x500 with 1 Axes>"
      ]
     },
     "metadata": {},
     "output_type": "display_data"
    }
   ],
   "source": [
    "predictions = forecaster.predict()\n",
    "# Asegurarse de que el índice de historyData sea DatetimeIndex\n",
    "if not isinstance(historyData.index, pd.DatetimeIndex):\n",
    "    historyData.index = pd.to_datetime(historyData.index)\n",
    "\n",
    "# Ajustar historyData para comparar con las predicciones\n",
    "# Selecciona el mismo rango de fechas que las predicciones\n",
    "historyData_comp = historyData.loc[predictions.index.min():predictions.index.max()]\n",
    "\n",
    "# Renombrar columna para graficar fácilmente\n",
    "historyData_comp = historyData_comp.rename(columns={'TotalVentas': 'OrderQuantity'})\n",
    "# Graficar las predicciones vs la data histórica real\n",
    "plt.figure(figsize=(12, 5))\n",
    "# Graficar valores reales\n",
    "plt.plot(historyData_comp.index, historyData_comp['OrderQuantity'], label='Real', marker='o')\n",
    "plt.plot(predictions.index, predictions['pred'].astype(int), label='Predicción', marker='x')\n",
    "# Graficar predicciones\n",
    "# plt.plot(predictions.index, predictions['pred'], label='Predicción', marker='x')\n",
    "plt.title(f'Predicciones multistep para ProductKey {214}')\n",
    "plt.xlabel('Fecha')\n",
    "plt.ylabel('OrderQuantity')\n",
    "plt.figtext(0.01,0.01,\"Predicciones realizadas con la libreria skforecast\", fontsize=10,color=\"gray\")\n",
    "plt.figtext(0.60,0.01,\"Gestión de Innovación en Tecnología Informática S.C.P. | Grupo Consultores®\", fontsize=10, color=\"gray\")\n",
    "plt.figtext(0.40,0.01, \"SIPPBST V2.0\")\n",
    "plt.legend()\n",
    "plt.grid(True)\n",
    "plt.show()"
   ]
  },
  {
   "cell_type": "code",
   "execution_count": 32,
   "id": "c298f3fc",
   "metadata": {},
   "outputs": [
    {
     "data": {
      "text/html": [
       "<div>\n",
       "<style scoped>\n",
       "    .dataframe tbody tr th:only-of-type {\n",
       "        vertical-align: middle;\n",
       "    }\n",
       "\n",
       "    .dataframe tbody tr th {\n",
       "        vertical-align: top;\n",
       "    }\n",
       "\n",
       "    .dataframe thead th {\n",
       "        text-align: right;\n",
       "    }\n",
       "</style>\n",
       "<table border=\"1\" class=\"dataframe\">\n",
       "  <thead>\n",
       "    <tr style=\"text-align: right;\">\n",
       "      <th></th>\n",
       "      <th>level</th>\n",
       "      <th>pred</th>\n",
       "    </tr>\n",
       "  </thead>\n",
       "  <tbody>\n",
       "    <tr>\n",
       "      <th>2013-08-20</th>\n",
       "      <td>OrderQuantity</td>\n",
       "      <td>4.572546</td>\n",
       "    </tr>\n",
       "    <tr>\n",
       "      <th>2013-08-21</th>\n",
       "      <td>OrderQuantity</td>\n",
       "      <td>4.768807</td>\n",
       "    </tr>\n",
       "    <tr>\n",
       "      <th>2013-08-22</th>\n",
       "      <td>OrderQuantity</td>\n",
       "      <td>4.428277</td>\n",
       "    </tr>\n",
       "    <tr>\n",
       "      <th>2013-08-23</th>\n",
       "      <td>OrderQuantity</td>\n",
       "      <td>4.952218</td>\n",
       "    </tr>\n",
       "    <tr>\n",
       "      <th>2013-08-24</th>\n",
       "      <td>OrderQuantity</td>\n",
       "      <td>4.982726</td>\n",
       "    </tr>\n",
       "    <tr>\n",
       "      <th>2013-08-25</th>\n",
       "      <td>OrderQuantity</td>\n",
       "      <td>5.057238</td>\n",
       "    </tr>\n",
       "    <tr>\n",
       "      <th>2013-08-26</th>\n",
       "      <td>OrderQuantity</td>\n",
       "      <td>5.085017</td>\n",
       "    </tr>\n",
       "    <tr>\n",
       "      <th>2013-08-27</th>\n",
       "      <td>OrderQuantity</td>\n",
       "      <td>4.694920</td>\n",
       "    </tr>\n",
       "    <tr>\n",
       "      <th>2013-08-28</th>\n",
       "      <td>OrderQuantity</td>\n",
       "      <td>5.191084</td>\n",
       "    </tr>\n",
       "    <tr>\n",
       "      <th>2013-08-29</th>\n",
       "      <td>OrderQuantity</td>\n",
       "      <td>4.654022</td>\n",
       "    </tr>\n",
       "    <tr>\n",
       "      <th>2013-08-30</th>\n",
       "      <td>OrderQuantity</td>\n",
       "      <td>5.070605</td>\n",
       "    </tr>\n",
       "    <tr>\n",
       "      <th>2013-08-31</th>\n",
       "      <td>OrderQuantity</td>\n",
       "      <td>5.001421</td>\n",
       "    </tr>\n",
       "    <tr>\n",
       "      <th>2013-09-01</th>\n",
       "      <td>OrderQuantity</td>\n",
       "      <td>4.963399</td>\n",
       "    </tr>\n",
       "    <tr>\n",
       "      <th>2013-09-02</th>\n",
       "      <td>OrderQuantity</td>\n",
       "      <td>4.355518</td>\n",
       "    </tr>\n",
       "    <tr>\n",
       "      <th>2013-09-03</th>\n",
       "      <td>OrderQuantity</td>\n",
       "      <td>5.097275</td>\n",
       "    </tr>\n",
       "    <tr>\n",
       "      <th>2013-09-04</th>\n",
       "      <td>OrderQuantity</td>\n",
       "      <td>4.797746</td>\n",
       "    </tr>\n",
       "    <tr>\n",
       "      <th>2013-09-05</th>\n",
       "      <td>OrderQuantity</td>\n",
       "      <td>5.035001</td>\n",
       "    </tr>\n",
       "    <tr>\n",
       "      <th>2013-09-06</th>\n",
       "      <td>OrderQuantity</td>\n",
       "      <td>5.035112</td>\n",
       "    </tr>\n",
       "    <tr>\n",
       "      <th>2013-09-07</th>\n",
       "      <td>OrderQuantity</td>\n",
       "      <td>5.117180</td>\n",
       "    </tr>\n",
       "    <tr>\n",
       "      <th>2013-09-08</th>\n",
       "      <td>OrderQuantity</td>\n",
       "      <td>5.093339</td>\n",
       "    </tr>\n",
       "    <tr>\n",
       "      <th>2013-09-09</th>\n",
       "      <td>OrderQuantity</td>\n",
       "      <td>5.259379</td>\n",
       "    </tr>\n",
       "    <tr>\n",
       "      <th>2013-09-10</th>\n",
       "      <td>OrderQuantity</td>\n",
       "      <td>4.685759</td>\n",
       "    </tr>\n",
       "    <tr>\n",
       "      <th>2013-09-11</th>\n",
       "      <td>OrderQuantity</td>\n",
       "      <td>5.149853</td>\n",
       "    </tr>\n",
       "    <tr>\n",
       "      <th>2013-09-12</th>\n",
       "      <td>OrderQuantity</td>\n",
       "      <td>5.018213</td>\n",
       "    </tr>\n",
       "    <tr>\n",
       "      <th>2013-09-13</th>\n",
       "      <td>OrderQuantity</td>\n",
       "      <td>4.796766</td>\n",
       "    </tr>\n",
       "    <tr>\n",
       "      <th>2013-09-14</th>\n",
       "      <td>OrderQuantity</td>\n",
       "      <td>5.126639</td>\n",
       "    </tr>\n",
       "    <tr>\n",
       "      <th>2013-09-15</th>\n",
       "      <td>OrderQuantity</td>\n",
       "      <td>5.083638</td>\n",
       "    </tr>\n",
       "    <tr>\n",
       "      <th>2013-09-16</th>\n",
       "      <td>OrderQuantity</td>\n",
       "      <td>5.162764</td>\n",
       "    </tr>\n",
       "    <tr>\n",
       "      <th>2013-09-17</th>\n",
       "      <td>OrderQuantity</td>\n",
       "      <td>5.435376</td>\n",
       "    </tr>\n",
       "    <tr>\n",
       "      <th>2013-09-18</th>\n",
       "      <td>OrderQuantity</td>\n",
       "      <td>5.117637</td>\n",
       "    </tr>\n",
       "    <tr>\n",
       "      <th>2013-09-19</th>\n",
       "      <td>OrderQuantity</td>\n",
       "      <td>5.306942</td>\n",
       "    </tr>\n",
       "  </tbody>\n",
       "</table>\n",
       "</div>"
      ],
      "text/plain": [
       "                    level      pred\n",
       "2013-08-20  OrderQuantity  4.572546\n",
       "2013-08-21  OrderQuantity  4.768807\n",
       "2013-08-22  OrderQuantity  4.428277\n",
       "2013-08-23  OrderQuantity  4.952218\n",
       "2013-08-24  OrderQuantity  4.982726\n",
       "2013-08-25  OrderQuantity  5.057238\n",
       "2013-08-26  OrderQuantity  5.085017\n",
       "2013-08-27  OrderQuantity  4.694920\n",
       "2013-08-28  OrderQuantity  5.191084\n",
       "2013-08-29  OrderQuantity  4.654022\n",
       "2013-08-30  OrderQuantity  5.070605\n",
       "2013-08-31  OrderQuantity  5.001421\n",
       "2013-09-01  OrderQuantity  4.963399\n",
       "2013-09-02  OrderQuantity  4.355518\n",
       "2013-09-03  OrderQuantity  5.097275\n",
       "2013-09-04  OrderQuantity  4.797746\n",
       "2013-09-05  OrderQuantity  5.035001\n",
       "2013-09-06  OrderQuantity  5.035112\n",
       "2013-09-07  OrderQuantity  5.117180\n",
       "2013-09-08  OrderQuantity  5.093339\n",
       "2013-09-09  OrderQuantity  5.259379\n",
       "2013-09-10  OrderQuantity  4.685759\n",
       "2013-09-11  OrderQuantity  5.149853\n",
       "2013-09-12  OrderQuantity  5.018213\n",
       "2013-09-13  OrderQuantity  4.796766\n",
       "2013-09-14  OrderQuantity  5.126639\n",
       "2013-09-15  OrderQuantity  5.083638\n",
       "2013-09-16  OrderQuantity  5.162764\n",
       "2013-09-17  OrderQuantity  5.435376\n",
       "2013-09-18  OrderQuantity  5.117637\n",
       "2013-09-19  OrderQuantity  5.306942"
      ]
     },
     "execution_count": 32,
     "metadata": {},
     "output_type": "execute_result"
    }
   ],
   "source": [
    "predictions"
   ]
  }
 ],
 "metadata": {
  "kernelspec": {
   "display_name": "envprediccion",
   "language": "python",
   "name": "python3"
  },
  "language_info": {
   "codemirror_mode": {
    "name": "ipython",
    "version": 3
   },
   "file_extension": ".py",
   "mimetype": "text/x-python",
   "name": "python",
   "nbconvert_exporter": "python",
   "pygments_lexer": "ipython3",
   "version": "3.11.4"
  }
 },
 "nbformat": 4,
 "nbformat_minor": 5
}
